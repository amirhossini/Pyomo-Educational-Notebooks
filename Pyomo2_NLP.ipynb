{
  "nbformat": 4,
  "nbformat_minor": 0,
  "metadata": {
    "colab": {
      "name": "Pyomo2_NLP.ipynb",
      "provenance": [],
      "collapsed_sections": [],
      "mount_file_id": "1hGPaIVd2Xxn46XcV7-wRMSTQCfvSksbb",
      "authorship_tag": "ABX9TyNVeKPKqPmUwBEXJUa7nRuO",
      "include_colab_link": true
    },
    "kernelspec": {
      "name": "python3",
      "display_name": "Python 3"
    },
    "language_info": {
      "name": "python"
    }
  },
  "cells": [
    {
      "cell_type": "markdown",
      "metadata": {
        "id": "view-in-github",
        "colab_type": "text"
      },
      "source": [
        "<a href=\"https://colab.research.google.com/github/amirhossini/Pyomo-Educational-Notebooks/blob/main/Pyomo2_NLP.ipynb\" target=\"_parent\"><img src=\"https://colab.research.google.com/assets/colab-badge.svg\" alt=\"Open In Colab\"/></a>"
      ]
    },
    {
      "cell_type": "markdown",
      "source": [
        "## Pyomo Examples\n",
        "\n",
        "__Notebook:__ Non-Linear Prpogramming (NLP) \n",
        "\n",
        "__Questions:__ amir.hossini@queensu.ca"
      ],
      "metadata": {
        "id": "aRN23WjyUvGM"
      }
    },
    {
      "cell_type": "markdown",
      "source": [
        "_Libraries_"
      ],
      "metadata": {
        "id": "YY0l5dV9U_th"
      }
    },
    {
      "cell_type": "code",
      "source": [
        "! pip install pyomo                 # software package for formulating optimization problems\n",
        "! apt-get install -y -qq glpk-utils # software package with solver for large scale LP and MILP problems\n",
        "import pyomo.environ as pyomo\n",
        "\n",
        "! wget -N -q \"https://ampl.com/dl/open/ipopt/ipopt-linux64.zip\"\n",
        "! unzip -o -q ipopt-linux64"
      ],
      "metadata": {
        "colab": {
          "base_uri": "https://localhost:8080/"
        },
        "id": "gHvPE-rRU9uW",
        "outputId": "34704a64-985c-423d-e322-806617108d75"
      },
      "execution_count": 1,
      "outputs": [
        {
          "output_type": "stream",
          "name": "stdout",
          "text": [
            "Collecting pyomo\n",
            "  Downloading Pyomo-6.4.0-cp37-cp37m-manylinux_2_12_x86_64.manylinux2010_x86_64.whl (9.6 MB)\n",
            "\u001b[K     |████████████████████████████████| 9.6 MB 14.0 MB/s \n",
            "\u001b[?25hCollecting ply\n",
            "  Downloading ply-3.11-py2.py3-none-any.whl (49 kB)\n",
            "\u001b[K     |████████████████████████████████| 49 kB 5.2 MB/s \n",
            "\u001b[?25hInstalling collected packages: ply, pyomo\n",
            "Successfully installed ply-3.11 pyomo-6.4.0\n",
            "Selecting previously unselected package libsuitesparseconfig5:amd64.\n",
            "(Reading database ... 155455 files and directories currently installed.)\n",
            "Preparing to unpack .../libsuitesparseconfig5_1%3a5.1.2-2_amd64.deb ...\n",
            "Unpacking libsuitesparseconfig5:amd64 (1:5.1.2-2) ...\n",
            "Selecting previously unselected package libamd2:amd64.\n",
            "Preparing to unpack .../libamd2_1%3a5.1.2-2_amd64.deb ...\n",
            "Unpacking libamd2:amd64 (1:5.1.2-2) ...\n",
            "Selecting previously unselected package libcolamd2:amd64.\n",
            "Preparing to unpack .../libcolamd2_1%3a5.1.2-2_amd64.deb ...\n",
            "Unpacking libcolamd2:amd64 (1:5.1.2-2) ...\n",
            "Selecting previously unselected package libglpk40:amd64.\n",
            "Preparing to unpack .../libglpk40_4.65-1_amd64.deb ...\n",
            "Unpacking libglpk40:amd64 (4.65-1) ...\n",
            "Selecting previously unselected package glpk-utils.\n",
            "Preparing to unpack .../glpk-utils_4.65-1_amd64.deb ...\n",
            "Unpacking glpk-utils (4.65-1) ...\n",
            "Setting up libsuitesparseconfig5:amd64 (1:5.1.2-2) ...\n",
            "Setting up libcolamd2:amd64 (1:5.1.2-2) ...\n",
            "Setting up libamd2:amd64 (1:5.1.2-2) ...\n",
            "Setting up libglpk40:amd64 (4.65-1) ...\n",
            "Setting up glpk-utils (4.65-1) ...\n",
            "Processing triggers for libc-bin (2.27-3ubuntu1.3) ...\n",
            "/sbin/ldconfig.real: /usr/local/lib/python3.7/dist-packages/ideep4py/lib/libmkldnn.so.0 is not a symbolic link\n",
            "\n",
            "Processing triggers for man-db (2.8.3-2ubuntu0.1) ...\n"
          ]
        }
      ]
    },
    {
      "cell_type": "markdown",
      "source": [
        "### Example 1 - Regreassion"
      ],
      "metadata": {
        "id": "m1o3qow4XGb4"
      }
    },
    {
      "cell_type": "code",
      "source": [
        "#### Model definition\n",
        "model_linear = pyomo.ConcreteModel()\n",
        "model_nonlinear = pyomo.ConcreteModel()\n",
        "\n",
        "#### Set declaration\n",
        "model_linear.m = pyomo.RangeSet(6)\n",
        "model_nonlinear.m = pyomo.RangeSet(6)\n",
        "\n",
        "#### Variable definition\n",
        "model_linear.a1 = pyomo.Var(domain=pyomo.Reals)\n",
        "model_linear.a2 = pyomo.Var(domain=pyomo.Reals)\n",
        "\n",
        "model_nonlinear.b1 = pyomo.Var(domain=pyomo.Reals, initialize = 500)\n",
        "model_nonlinear.b2 = pyomo.Var(domain=pyomo.Reals, initialize = -150)\n",
        "model_nonlinear.b3 = pyomo.Var(domain=pyomo.Reals, initialize = -0.2, bounds=(-5,5))\n",
        "\n",
        "#### Parameter declaration \n",
        "model_linear.datapoints_y = pyomo.Param(model_linear.m, \n",
        "                                        initialize = {1:127,2:151,3:379,\n",
        "                                                      4:421,5:460,6:426})\n",
        "model_linear.datapoints_x = pyomo.Param(model_linear.m, \n",
        "                                        initialize = {1:-5,2:-3,3:-1,\n",
        "                                                      4:5,5:3,6:1})\n",
        "\n",
        "model_nonlinear.datapoints_y = pyomo.Param(model_nonlinear.m, \n",
        "                                        initialize = {1:127,2:151,3:379,\n",
        "                                                      4:421,5:460,6:426})\n",
        "model_nonlinear.datapoints_x = pyomo.Param(model_nonlinear.m, \n",
        "                                        initialize = {1:-5,2:-3,3:-1,\n",
        "                                                      4:5,5:3,6:1})\n",
        "\n",
        "#### Objective functions\n",
        "model_linear.obj = pyomo.Objective(expr = sum((model_linear.datapoints_y[m]-\n",
        "                                               (model_linear.a1+model_linear.a2*model_linear.datapoints_x[m]))**2 \n",
        "                                              for m in model_linear.m),sense = pyomo.minimize)\n",
        "\n",
        "model_nonlinear.obj = pyomo.Objective(expr = sum((model_nonlinear.datapoints_y[m]-\n",
        "                                               (model_nonlinear.b1+model_nonlinear.b2*pyomo.exp(model_nonlinear.b3*model_nonlinear.datapoints_x[m])))**2 \n",
        "                                              for m in model_nonlinear.m),sense = pyomo.minimize)\n",
        "\n",
        "#### Solver options\n",
        "results = pyomo.SolverFactory('ipopt', executable = '/content/ipopt').solve(model_linear)\n",
        "\n",
        "results.write()\n",
        "print(\"\\n RESULTS \\n\")\n",
        "print(\"Squared deviation for linear regression model = \", model_linear.obj())\n",
        "print('Coefficient 1 for linear regression (a1) = ', model_linear.a1())\n",
        "print('Coefficient 2 for linear regression (a2) = ', model_linear.a2())\n",
        "\n",
        "results = pyomo.SolverFactory('ipopt', executable = '/content/ipopt').solve(model_nonlinear)\n",
        "\n",
        "results.write()\n",
        "print(\"\\n RESULTS \\n\")\n",
        "print(\"Squared deviation for nonlinear regression model = \", model_nonlinear.obj())\n",
        "print('Coefficient 1 for linear regression (b1) = ', model_nonlinear.b1())\n",
        "print('Coefficient 2 for linear regression (b2) = ', model_nonlinear.b2())\n",
        "print('Coefficient 2 for linear regression (b3) = ', model_nonlinear.b3())"
      ],
      "metadata": {
        "id": "Qc38pxf2XPn9",
        "colab": {
          "base_uri": "https://localhost:8080/"
        },
        "outputId": "dee90aaa-cf7a-4a35-f9fa-c620a541a500"
      },
      "execution_count": 2,
      "outputs": [
        {
          "output_type": "stream",
          "name": "stdout",
          "text": [
            "# ==========================================================\n",
            "# = Solver Results                                         =\n",
            "# ==========================================================\n",
            "# ----------------------------------------------------------\n",
            "#   Problem Information\n",
            "# ----------------------------------------------------------\n",
            "Problem: \n",
            "- Lower bound: -inf\n",
            "  Upper bound: inf\n",
            "  Number of objectives: 1\n",
            "  Number of constraints: 0\n",
            "  Number of variables: 2\n",
            "  Sense: unknown\n",
            "# ----------------------------------------------------------\n",
            "#   Solver Information\n",
            "# ----------------------------------------------------------\n",
            "Solver: \n",
            "- Status: ok\n",
            "  Message: Ipopt 3.12.13\\x3a Optimal Solution Found\n",
            "  Termination condition: optimal\n",
            "  Id: 0\n",
            "  Error rc: 0\n",
            "  Time: 0.018710851669311523\n",
            "# ----------------------------------------------------------\n",
            "#   Solution Information\n",
            "# ----------------------------------------------------------\n",
            "Solution: \n",
            "- number of solutions: 0\n",
            "  number of solutions displayed: 0\n",
            "\n",
            " RESULTS \n",
            "\n",
            "Squared deviation for linear regression model =  24674.81904761905\n",
            "Coefficient 1 for linear regression (a1) =  327.3333333333333\n",
            "Coefficient 2 for linear regression (a2) =  34.91428571428571\n",
            "# ==========================================================\n",
            "# = Solver Results                                         =\n",
            "# ==========================================================\n",
            "# ----------------------------------------------------------\n",
            "#   Problem Information\n",
            "# ----------------------------------------------------------\n",
            "Problem: \n",
            "- Lower bound: -inf\n",
            "  Upper bound: inf\n",
            "  Number of objectives: 1\n",
            "  Number of constraints: 0\n",
            "  Number of variables: 3\n",
            "  Sense: unknown\n",
            "# ----------------------------------------------------------\n",
            "#   Solver Information\n",
            "# ----------------------------------------------------------\n",
            "Solver: \n",
            "- Status: ok\n",
            "  Message: Ipopt 3.12.13\\x3a Optimal Solution Found\n",
            "  Termination condition: optimal\n",
            "  Id: 0\n",
            "  Error rc: 0\n",
            "  Time: 0.014864921569824219\n",
            "# ----------------------------------------------------------\n",
            "#   Solution Information\n",
            "# ----------------------------------------------------------\n",
            "Solution: \n",
            "- number of solutions: 0\n",
            "  number of solutions displayed: 0\n",
            "\n",
            " RESULTS \n",
            "\n",
            "Squared deviation for nonlinear regression model =  14085.139848928406\n",
            "Coefficient 1 for linear regression (b1) =  516.6511741716854\n",
            "Coefficient 2 for linear regression (b2) =  -149.35189369630749\n",
            "Coefficient 2 for linear regression (b3) =  -0.20664276797258005\n"
          ]
        }
      ]
    },
    {
      "cell_type": "markdown",
      "source": [
        "### Example 2 - Geometirc Optimization"
      ],
      "metadata": {
        "id": "xXahWprYx-7o"
      }
    },
    {
      "cell_type": "code",
      "source": [
        "#### Model definition\n",
        "model_circle = pyomo.ConcreteModel()\n",
        "\n",
        "#### Set defintion\n",
        "model_circle.i = pyomo.RangeSet(5)\n",
        "model_circle.j = pyomo.Set(initialize = model_circle.i) # Creates an alias of set i\n",
        "\n",
        "#### Variable declaration\n",
        "model_circle.r = pyomo.Var(domain = pyomo.NonNegativeReals, bounds = (0.05,0.4))\n",
        "\n",
        "#### Function to initialize coordinate variables\n",
        "def init(model_circle,l):\n",
        "  return -0.2 + l * 0.1\n",
        "\n",
        "model_circle.x = pyomo.Var(model_circle.i,domain=pyomo.Reals,bounds=(-1,1),initialize = init)\n",
        "model_circle.y = pyomo.Var(model_circle.i,domain=pyomo.Reals,bounds=(-1,1),initialize = init)\n",
        "\n",
        "#### Constrain definition\n",
        "def rule4(model_circle,i):\n",
        "  return (1-model_circle.r)**2 >= (model_circle.x[i]**2)+(model_circle.y[i]**2)\n",
        "model_circle.eq4 = pyomo.Constraint(model_circle.i,rule=rule4,doc='Containment constraint')\n",
        "\n",
        "def rule5(model_circle,i,j):\n",
        "  if i<j:\n",
        "    return (model_circle.x[i]-model_circle.x[j])**2 + (model_circle.y[i]-model_circle.y[j])**2 >= 4*(model_circle.r**2)\n",
        "  return pyomo.Constraint.Skip\n",
        "\n",
        "model_circle.eq5 = pyomo.Constraint(model_circle.i,model_circle.j, rule = rule5, doc = 'No overlap constraint')\n",
        "\n",
        "#### Objective function\n",
        "model_circle.obj = pyomo.Objective(expr = model_circle.r, sense = pyomo.maximize)\n",
        "\n",
        "#### Solve statement\n",
        "results = pyomo.SolverFactory('ipopt', executable = '/content/ipopt').solve(model_circle)\n",
        "\n",
        "#### Printing results\n",
        "results.write()\n",
        "print('\\n RESULTS \\n')\n",
        "print('Radius of identically size circles = ', model_circle.r(),'\\n')\n",
        "for i in model_circle.i:\n",
        "  print(\"Coordinate of circle \",i, \"=> (\", model_circle.x[i](),\",\",model_circle.y[i](),\") \\n\")"
      ],
      "metadata": {
        "id": "T4Qq9Bw_yRW0",
        "colab": {
          "base_uri": "https://localhost:8080/"
        },
        "outputId": "f4db662f-8cb7-4ab9-d537-420ece62d935"
      },
      "execution_count": 3,
      "outputs": [
        {
          "output_type": "stream",
          "name": "stdout",
          "text": [
            "# ==========================================================\n",
            "# = Solver Results                                         =\n",
            "# ==========================================================\n",
            "# ----------------------------------------------------------\n",
            "#   Problem Information\n",
            "# ----------------------------------------------------------\n",
            "Problem: \n",
            "- Lower bound: -inf\n",
            "  Upper bound: inf\n",
            "  Number of objectives: 1\n",
            "  Number of constraints: 15\n",
            "  Number of variables: 11\n",
            "  Sense: unknown\n",
            "# ----------------------------------------------------------\n",
            "#   Solver Information\n",
            "# ----------------------------------------------------------\n",
            "Solver: \n",
            "- Status: ok\n",
            "  Message: Ipopt 3.12.13\\x3a Optimal Solution Found\n",
            "  Termination condition: optimal\n",
            "  Id: 0\n",
            "  Error rc: 0\n",
            "  Time: 0.07117772102355957\n",
            "# ----------------------------------------------------------\n",
            "#   Solution Information\n",
            "# ----------------------------------------------------------\n",
            "Solution: \n",
            "- number of solutions: 0\n",
            "  number of solutions displayed: 0\n",
            "\n",
            " RESULTS \n",
            "\n",
            "Radius of identically size circles =  0.3701918881652626 \n",
            "\n",
            "Coordinate of circle  1 => ( -0.5601034058981541 , -0.2879972218635899 ) \n",
            "\n",
            "Coordinate of circle  2 => ( 0.10082016349844909 , -0.6216860298671703 ) \n",
            "\n",
            "Coordinate of circle  3 => ( -0.44698310555808646 , 0.443693958089928 ) \n",
            "\n",
            "Coordinate of circle  4 => ( 0.622413693691517 , -0.096225874925305 ) \n",
            "\n",
            "Coordinate of circle  5 => ( 0.2838526542662758 , 0.5622151685661356 ) \n",
            "\n"
          ]
        }
      ]
    },
    {
      "cell_type": "markdown",
      "source": [
        ""
      ],
      "metadata": {
        "id": "a2ZVo9YwKupr"
      }
    }
  ]
}