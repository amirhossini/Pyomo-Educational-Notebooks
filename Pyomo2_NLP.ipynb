{
  "nbformat": 4,
  "nbformat_minor": 0,
  "metadata": {
    "colab": {
      "name": "Pyomo2_NLP.ipynb",
      "provenance": [],
      "collapsed_sections": [],
      "mount_file_id": "1hGPaIVd2Xxn46XcV7-wRMSTQCfvSksbb",
      "authorship_tag": "ABX9TyO9F6RX1eRzzgs9svEjmmL6",
      "include_colab_link": true
    },
    "kernelspec": {
      "name": "python3",
      "display_name": "Python 3"
    },
    "language_info": {
      "name": "python"
    }
  },
  "cells": [
    {
      "cell_type": "markdown",
      "metadata": {
        "id": "view-in-github",
        "colab_type": "text"
      },
      "source": [
        "<a href=\"https://colab.research.google.com/github/amirhossini/Pyomo-Educational-Notebooks/blob/main/Pyomo2_NLP.ipynb\" target=\"_parent\"><img src=\"https://colab.research.google.com/assets/colab-badge.svg\" alt=\"Open In Colab\"/></a>"
      ]
    },
    {
      "cell_type": "markdown",
      "source": [
        "## Pyomo Examples\n",
        "\n",
        "__Notebook:__ Non-Linear Prpogramming (NLP) \n",
        "\n",
        "__Questions:__ amir.hossini@queensu.ca"
      ],
      "metadata": {
        "id": "aRN23WjyUvGM"
      }
    },
    {
      "cell_type": "markdown",
      "source": [
        "_Libraries_"
      ],
      "metadata": {
        "id": "YY0l5dV9U_th"
      }
    },
    {
      "cell_type": "code",
      "source": [
        "! pip install pyomo                 # software package for formulating optimization problems\n",
        "! apt-get install -y -qq glpk-utils # software package with solver for large scale LP and MILP problems\n",
        "import pyomo.environ as pyomo\n",
        "\n",
        "! wget -N -q \"https://ampl.com/dl/open/ipopt/ipopt-linux64.zip\"\n",
        "! unzip -o -q ipopt-linux64"
      ],
      "metadata": {
        "colab": {
          "base_uri": "https://localhost:8080/"
        },
        "id": "gHvPE-rRU9uW",
        "outputId": "aa4666a0-0ff6-46ff-e79a-2c668a5173c9"
      },
      "execution_count": 2,
      "outputs": [
        {
          "output_type": "stream",
          "name": "stdout",
          "text": [
            "Collecting pyomo\n",
            "  Downloading Pyomo-6.4.0-cp37-cp37m-manylinux_2_12_x86_64.manylinux2010_x86_64.whl (9.6 MB)\n",
            "\u001b[K     |████████████████████████████████| 9.6 MB 4.6 MB/s \n",
            "\u001b[?25hCollecting ply\n",
            "  Downloading ply-3.11-py2.py3-none-any.whl (49 kB)\n",
            "\u001b[K     |████████████████████████████████| 49 kB 5.5 MB/s \n",
            "\u001b[?25hInstalling collected packages: ply, pyomo\n",
            "Successfully installed ply-3.11 pyomo-6.4.0\n",
            "Selecting previously unselected package libsuitesparseconfig5:amd64.\n",
            "(Reading database ... 156210 files and directories currently installed.)\n",
            "Preparing to unpack .../libsuitesparseconfig5_1%3a5.1.2-2_amd64.deb ...\n",
            "Unpacking libsuitesparseconfig5:amd64 (1:5.1.2-2) ...\n",
            "Selecting previously unselected package libamd2:amd64.\n",
            "Preparing to unpack .../libamd2_1%3a5.1.2-2_amd64.deb ...\n",
            "Unpacking libamd2:amd64 (1:5.1.2-2) ...\n",
            "Selecting previously unselected package libcolamd2:amd64.\n",
            "Preparing to unpack .../libcolamd2_1%3a5.1.2-2_amd64.deb ...\n",
            "Unpacking libcolamd2:amd64 (1:5.1.2-2) ...\n",
            "Selecting previously unselected package libglpk40:amd64.\n",
            "Preparing to unpack .../libglpk40_4.65-1_amd64.deb ...\n",
            "Unpacking libglpk40:amd64 (4.65-1) ...\n",
            "Selecting previously unselected package glpk-utils.\n",
            "Preparing to unpack .../glpk-utils_4.65-1_amd64.deb ...\n",
            "Unpacking glpk-utils (4.65-1) ...\n",
            "Setting up libsuitesparseconfig5:amd64 (1:5.1.2-2) ...\n",
            "Setting up libcolamd2:amd64 (1:5.1.2-2) ...\n",
            "Setting up libamd2:amd64 (1:5.1.2-2) ...\n",
            "Setting up libglpk40:amd64 (4.65-1) ...\n",
            "Setting up glpk-utils (4.65-1) ...\n",
            "Processing triggers for libc-bin (2.27-3ubuntu1.3) ...\n",
            "/sbin/ldconfig.real: /usr/local/lib/python3.7/dist-packages/ideep4py/lib/libmkldnn.so.0 is not a symbolic link\n",
            "\n",
            "Processing triggers for man-db (2.8.3-2ubuntu0.1) ...\n"
          ]
        }
      ]
    },
    {
      "cell_type": "markdown",
      "source": [
        "### Example 1 - Regreassion"
      ],
      "metadata": {
        "id": "m1o3qow4XGb4"
      }
    },
    {
      "cell_type": "code",
      "source": [
        "#### Model definition\n",
        "model_linear = pyomo.ConcreteModel()\n",
        "model_nonlinear = pyomo.ConcreteModel()\n",
        "\n",
        "#### Set declaration\n",
        "model_linear.m = pyomo.RangeSet(6)\n",
        "model_nonlinear.m = pyomo.RangeSet(6)\n",
        "\n",
        "#### Variable definition\n",
        "model_linear.a1 = pyomo.Var(domain=pyomo.Reals)\n",
        "model_linear.a2 = pyomo.Var(domain=pyomo.Reals)\n",
        "\n",
        "model_nonlinear.b1 = pyomo.Var(domain=pyomo.Reals, initialize = 500)\n",
        "model_nonlinear.b2 = pyomo.Var(domain=pyomo.Reals, initialize = -150)\n",
        "model_nonlinear.b3 = pyomo.Var(domain=pyomo.Reals, initialize = -0.2)\n",
        "\n",
        "#### Parameter declaration \n",
        "model_linear.datapoints_y = pyomo.Param(model_linear.m, \n",
        "                                        initialize = {1:127,2:151,3:379,\n",
        "                                                      4:421,5:460,6:426})\n",
        "model_linear.datapoints_x = pyomo.Param(model_linear.m, \n",
        "                                        initialize = {1:-5,2:-3,3:-1,\n",
        "                                                      4:5,5:3,6:1})\n",
        "\n",
        "model_nonlinear.datapoints_y = pyomo.Param(model_nonlinear.m, \n",
        "                                        initialize = {1:127,2:151,3:379,\n",
        "                                                      4:421,5:460,6:426})\n",
        "model_nonlinear.datapoints_x = pyomo.Param(model_nonlinear.m, \n",
        "                                        initialize = {1:-5,2:-3,3:-1,\n",
        "                                                      4:5,5:3,6:1})\n",
        "\n",
        "#### Objective functions\n",
        "model_linear.obj = pyomo.Objective(expr = sum((model_linear.datapoints_y[m]-\n",
        "                                               (model_linear.a1+model_linear.a2*model_linear.datapoints_x[m]))**2 \n",
        "                                              for m in model_linear.m),sense = pyomo.minimize)\n",
        "\n",
        "model_nonlinear.obj = pyomo.Objective(expr = sum((model_nonlinear.datapoints_y[m]-\n",
        "                                               (model_nonlinear.b1+model_nonlinear.b2*pyomo.exp(model_nonlinear.b3*model_nonlinear.datapoints_x[m]))**2 \n",
        "                                              for m in model_nonlinear.m),sense = pyomo.minimize)\n",
        "\n",
        "#### Solver options\n",
        "results = pyomo.SolverFactory('ipopt', executable = '/content/ipopt').solve(model_linear)\n",
        "\n",
        "results.write()\n",
        "print(\"\\n RESULTS \\n\")\n",
        "print(\"Squared deviation for linear regression model = \", model_linear.obj())\n",
        "print('Coefficient 1 for linear regression (a1) = ', model_linear.a1())\n",
        "print('Coefficient 2 for linear regression (a2) = ', model_linear.a2())\n",
        "\n",
        "results = pyomo.SolverFactory('ipopt', executable = '/content/ipopt').solve(model_nonlinear)\n",
        "\n",
        "results.write()\n",
        "print(\"\\n RESULTS \\n\")\n",
        "print(\"Squared deviation for nonlinear regression model = \", model_nonlinear.obj())\n",
        "print('Coefficient 1 for linear regression (b1) = ', model_nonlinear.b1())\n",
        "print('Coefficient 2 for linear regression (b2) = ', model_nonlinear.b2())\n",
        "print('Coefficient 2 for linear regression (b3) = ', model_nonlinear.b3())"
      ],
      "metadata": {
        "id": "Qc38pxf2XPn9",
        "colab": {
          "base_uri": "https://localhost:8080/",
          "height": 149
        },
        "outputId": "b03b9e5f-0f53-4f90-f7e5-c9d9ea0b637f"
      },
      "execution_count": 3,
      "outputs": [
        {
          "output_type": "error",
          "ename": "SyntaxError",
          "evalue": "ignored",
          "traceback": [
            "\u001b[0;36m  File \u001b[0;32m\"<ipython-input-3-3887511d251d>\"\u001b[0;36m, line \u001b[0;32m42\u001b[0m\n\u001b[0;31m    results = pyomo.SolverFactory('ipopt', executable = '/content/ipopt').solve(model_linear)\u001b[0m\n\u001b[0m          ^\u001b[0m\n\u001b[0;31mSyntaxError\u001b[0m\u001b[0;31m:\u001b[0m invalid syntax\n"
          ]
        }
      ]
    }
  ]
}