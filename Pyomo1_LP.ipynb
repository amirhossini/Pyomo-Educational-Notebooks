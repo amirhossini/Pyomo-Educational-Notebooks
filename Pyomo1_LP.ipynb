{
  "nbformat": 4,
  "nbformat_minor": 0,
  "metadata": {
    "colab": {
      "name": "Pyomo1_LP.ipynb",
      "provenance": [],
      "collapsed_sections": [],
      "mount_file_id": "1PYeQexZy5gnR1zEWJGkLnvYNL7h8aTN9",
      "authorship_tag": "ABX9TyP7mDPx8hRmKsM0lsxUg1GO",
      "include_colab_link": true
    },
    "kernelspec": {
      "name": "python3",
      "display_name": "Python 3"
    },
    "language_info": {
      "name": "python"
    }
  },
  "cells": [
    {
      "cell_type": "markdown",
      "metadata": {
        "id": "view-in-github",
        "colab_type": "text"
      },
      "source": [
        "<a href=\"https://colab.research.google.com/github/amirhossini/Pyomo-Educational-Notebooks/blob/main/Pyomo1_LP.ipynb\" target=\"_parent\"><img src=\"https://colab.research.google.com/assets/colab-badge.svg\" alt=\"Open In Colab\"/></a>"
      ]
    },
    {
      "cell_type": "markdown",
      "source": [
        "## Pyomo Examples\n",
        "\n",
        "__Notebook:__ Simple LP\n",
        "\n",
        "__Questions:__ amir.hossini@queensu.ca"
      ],
      "metadata": {
        "id": "sFKqAoCnzLwq"
      }
    },
    {
      "cell_type": "markdown",
      "source": [
        "_Libraries_"
      ],
      "metadata": {
        "id": "xQ_LG2XJ07Ku"
      }
    },
    {
      "cell_type": "code",
      "execution_count": 3,
      "metadata": {
        "colab": {
          "base_uri": "https://localhost:8080/"
        },
        "id": "D11Z2Nl9SjSq",
        "outputId": "b03f9ff1-4bab-491a-83ed-2eed2203276e"
      },
      "outputs": [
        {
          "output_type": "stream",
          "name": "stdout",
          "text": [
            "Requirement already satisfied: pyomo in /usr/local/lib/python3.7/dist-packages (6.4.0)\n",
            "Requirement already satisfied: ply in /usr/local/lib/python3.7/dist-packages (from pyomo) (3.11)\n"
          ]
        }
      ],
      "source": [
        "! pip install pyomo                 # software package for formulating optimization problems\n",
        "! apt-get install -y -qq glpk-utils # software package with solver for large scale LP and MILP problems\n",
        "import pyomo.environ as pyomo"
      ]
    },
    {
      "cell_type": "markdown",
      "source": [
        "### The Dorian Auto advertisement campaign"
      ],
      "metadata": {
        "id": "sGAjcnhK5CCH"
      }
    },
    {
      "cell_type": "code",
      "source": [
        "from sys import executable\n",
        "#### Model Definition\n",
        "model = pyomo.ConcreteModel()\n",
        "\n",
        "#### Variable Declaration\n",
        "model.x1 = pyomo.Var() # number of comedy ads purchased\n",
        "model.x2 = pyomo.Var() # number of football ads purchased\n",
        "\n",
        "#### Objective Function Definition\n",
        "model.obj = pyomo.Objective(expr = 50*model.x1+100*model.x2, sense=pyomo.minimize)\n",
        "\n",
        "#### Constrain Definition\n",
        "def rule1(model):\n",
        "  return 7*model.x1 + 2*model.x2 >= 28\n",
        "model.eq1 = pyomo.Constraint(rule = rule1, doc = 'Constraint1')\n",
        "\n",
        "def rule2(model):\n",
        "  return 2*model.x1 + 12*model.x2 >= 24\n",
        "model.eq2 = pyomo.Constraint(rule = rule2, doc = 'Constraint2')\n",
        "\n",
        "#### Solver Options\n",
        "results = pyomo.SolverFactory('glpk',executable='/usr/bin/glpsol').solve(model)\n",
        "\n",
        "#### Printing results\n",
        "results.write()\n",
        "print(\"\\n RESULTS \\n\")\n",
        "print(\"Cost of advertisement campaign = \", model.obj())\n",
        "print(\"Number of comedy ads purchased = \", model.x1())\n",
        "print(\"Number of football ads purchased = \", model.x2())"
      ],
      "metadata": {
        "colab": {
          "base_uri": "https://localhost:8080/"
        },
        "id": "eJbOfGO35WhK",
        "outputId": "cd5a5275-5591-49bf-c572-7f122e39e712"
      },
      "execution_count": 5,
      "outputs": [
        {
          "output_type": "stream",
          "name": "stdout",
          "text": [
            "# ==========================================================\n",
            "# = Solver Results                                         =\n",
            "# ==========================================================\n",
            "# ----------------------------------------------------------\n",
            "#   Problem Information\n",
            "# ----------------------------------------------------------\n",
            "Problem: \n",
            "- Name: unknown\n",
            "  Lower bound: 320.0\n",
            "  Upper bound: 320.0\n",
            "  Number of objectives: 1\n",
            "  Number of constraints: 3\n",
            "  Number of variables: 3\n",
            "  Number of nonzeros: 5\n",
            "  Sense: minimize\n",
            "# ----------------------------------------------------------\n",
            "#   Solver Information\n",
            "# ----------------------------------------------------------\n",
            "Solver: \n",
            "- Status: ok\n",
            "  Termination condition: optimal\n",
            "  Statistics: \n",
            "    Branch and bound: \n",
            "      Number of bounded subproblems: 0\n",
            "      Number of created subproblems: 0\n",
            "  Error rc: 0\n",
            "  Time: 0.018414735794067383\n",
            "# ----------------------------------------------------------\n",
            "#   Solution Information\n",
            "# ----------------------------------------------------------\n",
            "Solution: \n",
            "- number of solutions: 0\n",
            "  number of solutions displayed: 0\n",
            "\n",
            " RESULTS \n",
            "\n",
            "Cost of advertisement campaign =  320.0\n",
            "Number of comedy ads purchased =  3.6\n",
            "Number of football ads purchased =  1.4\n"
          ]
        }
      ]
    }
  ]
}