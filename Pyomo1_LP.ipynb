{
  "nbformat": 4,
  "nbformat_minor": 0,
  "metadata": {
    "colab": {
      "name": "Pyomo1_LP.ipynb",
      "provenance": [],
      "collapsed_sections": [],
      "mount_file_id": "1PYeQexZy5gnR1zEWJGkLnvYNL7h8aTN9",
      "authorship_tag": "ABX9TyNymCvlNnMm1QUToTxVnkBO",
      "include_colab_link": true
    },
    "kernelspec": {
      "name": "python3",
      "display_name": "Python 3"
    },
    "language_info": {
      "name": "python"
    }
  },
  "cells": [
    {
      "cell_type": "markdown",
      "metadata": {
        "id": "view-in-github",
        "colab_type": "text"
      },
      "source": [
        "<a href=\"https://colab.research.google.com/github/amirhossini/Pyomo-Educational-Notebooks/blob/main/Pyomo1_LP.ipynb\" target=\"_parent\"><img src=\"https://colab.research.google.com/assets/colab-badge.svg\" alt=\"Open In Colab\"/></a>"
      ]
    },
    {
      "cell_type": "markdown",
      "source": [
        "## Pyomo Examples\n",
        "\n",
        "__Notebook:__ Simple LP\n",
        "\n",
        "__Questions:__ amir.hossini@queensu.ca"
      ],
      "metadata": {
        "id": "sFKqAoCnzLwq"
      }
    },
    {
      "cell_type": "markdown",
      "source": [
        "_Libraries_"
      ],
      "metadata": {
        "id": "xQ_LG2XJ07Ku"
      }
    },
    {
      "cell_type": "code",
      "execution_count": 3,
      "metadata": {
        "colab": {
          "base_uri": "https://localhost:8080/"
        },
        "id": "D11Z2Nl9SjSq",
        "outputId": "b03f9ff1-4bab-491a-83ed-2eed2203276e"
      },
      "outputs": [
        {
          "output_type": "stream",
          "name": "stdout",
          "text": [
            "Requirement already satisfied: pyomo in /usr/local/lib/python3.7/dist-packages (6.4.0)\n",
            "Requirement already satisfied: ply in /usr/local/lib/python3.7/dist-packages (from pyomo) (3.11)\n"
          ]
        }
      ],
      "source": [
        "! pip install pyomo                 # software package for formulating optimization problems\n",
        "! apt-get install -y -qq glpk-utils # software package with solver for large scale LP and MILP problems\n",
        "import pyomo.environ as pyomo"
      ]
    },
    {
      "cell_type": "markdown",
      "source": [
        "### The Dorian Auto advertisement campaign"
      ],
      "metadata": {
        "id": "sGAjcnhK5CCH"
      }
    },
    {
      "cell_type": "code",
      "source": [
        "#### Model Definition\n",
        "model = pyomo.ConcreteModel()\n",
        "\n",
        "#### Variable Declaration\n",
        "model.x1 = pyomo.Var() # number of comedy ads purchased\n",
        "model.x2 = pyomo.Var() # number of football ads purchased\n",
        "\n",
        "#### Objective Function Definition\n",
        "model.obj = pyomo.Objective(expr = 50*x1+100*x2, sense=pyomo.minimize)\n",
        "\n"
      ],
      "metadata": {
        "id": "eJbOfGO35WhK"
      },
      "execution_count": null,
      "outputs": []
    }
  ]
}