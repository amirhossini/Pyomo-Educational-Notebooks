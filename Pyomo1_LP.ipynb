{
  "nbformat": 4,
  "nbformat_minor": 0,
  "metadata": {
    "colab": {
      "name": "Pyomo1_LP.ipynb",
      "provenance": [],
      "collapsed_sections": [],
      "mount_file_id": "1PYeQexZy5gnR1zEWJGkLnvYNL7h8aTN9",
      "authorship_tag": "ABX9TyPuR2tiitdrP26gqMO5UGdm",
      "include_colab_link": true
    },
    "kernelspec": {
      "name": "python3",
      "display_name": "Python 3"
    },
    "language_info": {
      "name": "python"
    }
  },
  "cells": [
    {
      "cell_type": "markdown",
      "metadata": {
        "id": "view-in-github",
        "colab_type": "text"
      },
      "source": [
        "<a href=\"https://colab.research.google.com/github/amirhossini/Pyomo-Educational-Notebooks/blob/main/Pyomo1_LP.ipynb\" target=\"_parent\"><img src=\"https://colab.research.google.com/assets/colab-badge.svg\" alt=\"Open In Colab\"/></a>"
      ]
    },
    {
      "cell_type": "markdown",
      "source": [
        "## Pyomo Examples\n",
        "\n",
        "__Notebook:__ Simple LP\n",
        "\n",
        "__Questions:__ amir.hossini@queensu.ca"
      ],
      "metadata": {
        "id": "sFKqAoCnzLwq"
      }
    },
    {
      "cell_type": "markdown",
      "source": [
        "_Libraries_"
      ],
      "metadata": {
        "id": "xQ_LG2XJ07Ku"
      }
    },
    {
      "cell_type": "code",
      "execution_count": 2,
      "metadata": {
        "colab": {
          "base_uri": "https://localhost:8080/"
        },
        "id": "D11Z2Nl9SjSq",
        "outputId": "14d17daa-a428-4c88-d3b8-ca6eadbc2e8b"
      },
      "outputs": [
        {
          "output_type": "stream",
          "name": "stdout",
          "text": [
            "Collecting pyomo\n",
            "  Downloading Pyomo-6.4.0-cp37-cp37m-manylinux_2_12_x86_64.manylinux2010_x86_64.whl (9.6 MB)\n",
            "\u001b[K     |████████████████████████████████| 9.6 MB 8.8 MB/s \n",
            "\u001b[?25hCollecting ply\n",
            "  Downloading ply-3.11-py2.py3-none-any.whl (49 kB)\n",
            "\u001b[K     |████████████████████████████████| 49 kB 5.1 MB/s \n",
            "\u001b[?25hInstalling collected packages: ply, pyomo\n",
            "Successfully installed ply-3.11 pyomo-6.4.0\n",
            "Selecting previously unselected package libsuitesparseconfig5:amd64.\n",
            "(Reading database ... 156210 files and directories currently installed.)\n",
            "Preparing to unpack .../libsuitesparseconfig5_1%3a5.1.2-2_amd64.deb ...\n",
            "Unpacking libsuitesparseconfig5:amd64 (1:5.1.2-2) ...\n",
            "Selecting previously unselected package libamd2:amd64.\n",
            "Preparing to unpack .../libamd2_1%3a5.1.2-2_amd64.deb ...\n",
            "Unpacking libamd2:amd64 (1:5.1.2-2) ...\n",
            "Selecting previously unselected package libcolamd2:amd64.\n",
            "Preparing to unpack .../libcolamd2_1%3a5.1.2-2_amd64.deb ...\n",
            "Unpacking libcolamd2:amd64 (1:5.1.2-2) ...\n",
            "Selecting previously unselected package libglpk40:amd64.\n",
            "Preparing to unpack .../libglpk40_4.65-1_amd64.deb ...\n",
            "Unpacking libglpk40:amd64 (4.65-1) ...\n",
            "Selecting previously unselected package glpk-utils.\n",
            "Preparing to unpack .../glpk-utils_4.65-1_amd64.deb ...\n",
            "Unpacking glpk-utils (4.65-1) ...\n",
            "Setting up libsuitesparseconfig5:amd64 (1:5.1.2-2) ...\n",
            "Setting up libcolamd2:amd64 (1:5.1.2-2) ...\n",
            "Setting up libamd2:amd64 (1:5.1.2-2) ...\n",
            "Setting up libglpk40:amd64 (4.65-1) ...\n",
            "Setting up glpk-utils (4.65-1) ...\n",
            "Processing triggers for libc-bin (2.27-3ubuntu1.3) ...\n",
            "/sbin/ldconfig.real: /usr/local/lib/python3.7/dist-packages/ideep4py/lib/libmkldnn.so.0 is not a symbolic link\n",
            "\n",
            "Processing triggers for man-db (2.8.3-2ubuntu0.1) ...\n"
          ]
        }
      ],
      "source": [
        "! pip install pyomo                 # software package for formulating optimization problems\n",
        "! apt-get install -y -qq glpk-utils # software package with solver for large scale LP and MILP problems\n",
        "import pyomo.environ as pyomo"
      ]
    },
    {
      "cell_type": "markdown",
      "source": [
        "### The Dorian Auto advertisement campaign"
      ],
      "metadata": {
        "id": "sGAjcnhK5CCH"
      }
    },
    {
      "cell_type": "code",
      "source": [
        "from sys import executable\n",
        "#### Model Definition\n",
        "model = pyomo.ConcreteModel()\n",
        "\n",
        "#### Variable Declaration\n",
        "model.x1 = pyomo.Var() # number of comedy ads purchased\n",
        "model.x2 = pyomo.Var() # number of football ads purchased\n",
        "\n",
        "#### Objective Function Definition\n",
        "model.obj = pyomo.Objective(expr = 50*model.x1+100*model.x2, sense=pyomo.minimize)\n",
        "\n",
        "#### Constrain Definition\n",
        "def rule1(model):\n",
        "  return 7*model.x1 + 2*model.x2 >= 28\n",
        "model.eq1 = pyomo.Constraint(rule = rule1, doc = 'Constraint1')\n",
        "\n",
        "def rule2(model):\n",
        "  return 2*model.x1 + 12*model.x2 >= 24\n",
        "model.eq2 = pyomo.Constraint(rule = rule2, doc = 'Constraint2')\n",
        "\n",
        "#### Solver Options\n",
        "results = pyomo.SolverFactory('glpk',executable='/usr/bin/glpsol').solve(model)\n",
        "\n",
        "#### Printing results\n",
        "results.write()\n",
        "print(\"\\n RESULTS \\n\")\n",
        "print(\"Cost of advertisement campaign = \", model.obj())\n",
        "print(\"Number of comedy ads purchased = \", model.x1())\n",
        "print(\"Number of football ads purchased = \", model.x2())"
      ],
      "metadata": {
        "colab": {
          "base_uri": "https://localhost:8080/"
        },
        "id": "eJbOfGO35WhK",
        "outputId": "4295637d-a947-4746-ffb1-bb5b2c1a1fcb"
      },
      "execution_count": 3,
      "outputs": [
        {
          "output_type": "stream",
          "name": "stdout",
          "text": [
            "# ==========================================================\n",
            "# = Solver Results                                         =\n",
            "# ==========================================================\n",
            "# ----------------------------------------------------------\n",
            "#   Problem Information\n",
            "# ----------------------------------------------------------\n",
            "Problem: \n",
            "- Name: unknown\n",
            "  Lower bound: 320.0\n",
            "  Upper bound: 320.0\n",
            "  Number of objectives: 1\n",
            "  Number of constraints: 3\n",
            "  Number of variables: 3\n",
            "  Number of nonzeros: 5\n",
            "  Sense: minimize\n",
            "# ----------------------------------------------------------\n",
            "#   Solver Information\n",
            "# ----------------------------------------------------------\n",
            "Solver: \n",
            "- Status: ok\n",
            "  Termination condition: optimal\n",
            "  Statistics: \n",
            "    Branch and bound: \n",
            "      Number of bounded subproblems: 0\n",
            "      Number of created subproblems: 0\n",
            "  Error rc: 0\n",
            "  Time: 0.017414331436157227\n",
            "# ----------------------------------------------------------\n",
            "#   Solution Information\n",
            "# ----------------------------------------------------------\n",
            "Solution: \n",
            "- number of solutions: 0\n",
            "  number of solutions displayed: 0\n",
            "\n",
            " RESULTS \n",
            "\n",
            "Cost of advertisement campaign =  320.0\n",
            "Number of comedy ads purchased =  3.6\n",
            "Number of football ads purchased =  1.4\n"
          ]
        }
      ]
    },
    {
      "cell_type": "markdown",
      "source": [
        "### Post office workers schedulling"
      ],
      "metadata": {
        "id": "f03pLEk81CY8"
      }
    },
    {
      "cell_type": "code",
      "source": [
        "#### Model Definition\n",
        "model = pyomo.ConcreteModel()\n",
        "\n",
        "#### Variable Definition\n",
        "model.x1 = pyomo.Var()\n",
        "model.x2 = pyomo.Var()\n",
        "model.x3 = pyomo.Var()\n",
        "model.x4 = pyomo.Var()\n",
        "model.x5 = pyomo.Var()\n",
        "model.x6 = pyomo.Var()\n",
        "model.x7 = pyomo.Var()\n",
        "\n",
        "#### Objective Function Definition\n",
        "model.obj = pyomo.Objective(expr = model.x1 +\n",
        "                                  model.x2 +\n",
        "                                  model.x3 +\n",
        "                                  model.x4 + \n",
        "                                  model.x5 + \n",
        "                                  model.x6 +\n",
        "                                  model.x7,\n",
        "                           sense = pyomo.minimize);\n",
        "\n",
        "#### Constrain Definition\n",
        "\n",
        "def rule1(model):\n",
        "  return model.x1+model.x4+model.x5+model.x6+model.x7 >= 17\n",
        "model.eq1 = pyomo.Constraint(rule = rule1, doc = 'Monday requirement')\n",
        "def rule2(model):\n",
        "  return model.x1+model.x2+model.x5+model.x6+model.x7 >= 13\n",
        "model.eq2 = pyomo.Constraint(rule = rule2, doc = 'Tuesday requirement')\n",
        "def rule3(model):\n",
        "  return model.x1+model.x2+model.x3+model.x6+model.x7 >= 15\n",
        "model.eq3 = pyomo.Constraint(rule = rule3, doc = 'Wednesday requirement')\n",
        "def rule4(model):\n",
        "  return model.x1+model.x2+model.x3+model.x4+model.x7 >= 19\n",
        "model.eq4 = pyomo.Constraint(rule = rule4, doc = 'Thursday requirement')\n",
        "def rule5(model):\n",
        "  return model.x1+model.x2+model.x3+model.x4+model.x5 >= 14\n",
        "model.eq5 = pyomo.Constraint(rule = rule5, doc = 'Friday requirement')\n",
        "def rule6(model):\n",
        "  return model.x2+model.x3+model.x4+model.x5+model.x6 >= 16\n",
        "model.eq6 = pyomo.Constraint(rule = rule6, doc = 'Saturday requirement')\n",
        "def rule7(model):\n",
        "  return model.x3+model.x4+model.x5+model.x6+model.x7 >= 11\n",
        "model.eq7 = pyomo.Constraint(rule = rule7, doc = 'Sunday requirement')\n",
        "\n",
        "def rule8(model):\n",
        "  return model.x1 >= 0\n",
        "model.eq8 = pyomo.Constraint(rule = rule8, doc = 'Non neg for Monday')\n",
        "def rule9(model):\n",
        "  return model.x2 >= 0\n",
        "model.eq9 = pyomo.Constraint(rule = rule9, doc = 'Non neg for Tuesday')\n",
        "def rule10(model):\n",
        "  return model.x3 >= 0\n",
        "model.eq10 = pyomo.Constraint(rule = rule10, doc = 'Non neg for Wednesday')\n",
        "def rule11(model):\n",
        "  return model.x4 >= 0\n",
        "model.eq11 = pyomo.Constraint(rule = rule11, doc = 'Non neg for Thursday')\n",
        "def rule12(model):\n",
        "  return model.x5 >= 0\n",
        "model.eq12 = pyomo.Constraint(rule = rule12, doc = 'Non neg for Friday')\n",
        "def rule13(model):\n",
        "  return model.x6 >= 0\n",
        "model.eq13 = pyomo.Constraint(rule = rule13, doc = 'Non neg for Saturday')\n",
        "def rule14(model):\n",
        "  return model.x7 >= 0\n",
        "model.eq14 = pyomo.Constraint(rule = rule14, doc = 'Non neg for Sunday')\n",
        "\n",
        "#### Solver Options\n",
        "results = pyomo.SolverFactory('glpk', executable = '/usr/bin/glpsol').solve(model)\n",
        "\n",
        "#### Printing results \n",
        "results.write()\n",
        "print(\"\\n RESULTS \\n\")\n",
        "print(\"Optimal number of workers = \", model.obj())\n",
        "\n",
        "print(\"Number of workers starting on Monday\", model.x1())\n",
        "print(\"Number of workers starting on Tuesday\", model.x2())\n",
        "print(\"Number of workers starting on Wednesday\", model.x3())\n",
        "print(\"Number of workers starting on Thursday\", model.x4())\n",
        "print(\"Number of workers starting on Friday\", model.x5())\n",
        "print(\"Number of workers starting on Saturday\", model.x6())\n",
        "print(\"Number of workers starting on Sunday\", model.x7())"
      ],
      "metadata": {
        "colab": {
          "base_uri": "https://localhost:8080/"
        },
        "id": "T0XWPRf01Q06",
        "outputId": "34596fb2-7191-4d3f-8025-4ccbbe60238a"
      },
      "execution_count": 4,
      "outputs": [
        {
          "output_type": "stream",
          "name": "stdout",
          "text": [
            "# ==========================================================\n",
            "# = Solver Results                                         =\n",
            "# ==========================================================\n",
            "# ----------------------------------------------------------\n",
            "#   Problem Information\n",
            "# ----------------------------------------------------------\n",
            "Problem: \n",
            "- Name: unknown\n",
            "  Lower bound: 22.3333333333333\n",
            "  Upper bound: 22.3333333333333\n",
            "  Number of objectives: 1\n",
            "  Number of constraints: 15\n",
            "  Number of variables: 8\n",
            "  Number of nonzeros: 43\n",
            "  Sense: minimize\n",
            "# ----------------------------------------------------------\n",
            "#   Solver Information\n",
            "# ----------------------------------------------------------\n",
            "Solver: \n",
            "- Status: ok\n",
            "  Termination condition: optimal\n",
            "  Statistics: \n",
            "    Branch and bound: \n",
            "      Number of bounded subproblems: 0\n",
            "      Number of created subproblems: 0\n",
            "  Error rc: 0\n",
            "  Time: 0.014565229415893555\n",
            "# ----------------------------------------------------------\n",
            "#   Solution Information\n",
            "# ----------------------------------------------------------\n",
            "Solution: \n",
            "- number of solutions: 0\n",
            "  number of solutions displayed: 0\n",
            "\n",
            " RESULTS \n",
            "\n",
            "Optimal number of workers =  22.33333333333332\n",
            "Number of workers starting on Monday 6.33333333333333\n",
            "Number of workers starting on Tuesday 3.33333333333333\n",
            "Number of workers starting on Wednesday 2.0\n",
            "Number of workers starting on Thursday 7.33333333333333\n",
            "Number of workers starting on Friday 0.0\n",
            "Number of workers starting on Saturday 3.33333333333333\n",
            "Number of workers starting on Sunday 0.0\n"
          ]
        }
      ]
    },
    {
      "cell_type": "markdown",
      "source": [
        "### The Dorian Auto advertisement campaign (compact syntax using sets)"
      ],
      "metadata": {
        "id": "pf43zWqkBm8J"
      }
    },
    {
      "cell_type": "code",
      "source": [
        "#### Model Definition\n",
        "model = pyomo.ConcreteModel()\n",
        "\n",
        "#### Set Declaration \n",
        "model.c = pyomo.Set(initialize= ['HIW','HIM'])\n",
        "model.a = pyomo.Set(initialize=['comedy','football'])\n",
        "\n",
        "#### Variable Declaration\n",
        "model.x = pyomo.Var(model.a)\n",
        "\n",
        "#### Parameter Declaration\n",
        "model.theta = pyomo.Param(model.a, initialize = {'comedy':50, 'football':100})\n",
        "\n",
        "model.mu = pyomo.Param(model.a, model.c, initialize = {('comedy','HIW'):7,\n",
        "                                                       ('comedy','HIM'):2,\n",
        "                                                       ('football','HIW'):2,\n",
        "                                                       ('football','HIM'):12})\n",
        "model.alpha = pyomo.Param(model.c, initialize= {'HIW':28,'HIM':24})\n",
        "\n",
        "#### Objective function definition\n",
        "model.obj =pyomo.Objective(expr = sum(model.theta[a]*model.x[a] for a in model.a),\n",
        "                           sense = pyomo.minimize);\n",
        "\n",
        "#### Constraint definition\n",
        "def rule1(model,c):\n",
        "  return sum(model.mu[a,c]*model.x[a] for a in model.a) >= model.alpha[c]\n",
        "\n",
        "model.eq1 = pyomo.Constraint(model.c, rule = rule1, doc = 'Viewership requirement')\n",
        "\n",
        "#### Solver options\n",
        "results = pyomo.SolverFactory('glpk',executable = '/usr/bin/glpsol').solve(model)\n",
        "\n",
        "#### Printing results\n",
        "results.write()\n",
        "print(\"\\n RESULTS \\n\")\n",
        "print(\"Cost of advertisement campaign = \", model.obj())\n",
        "print(\"Number of comedy ads purchased = \", model.x['comedy']())\n",
        "print(\"Number of football ads purchased = \", model.x['football']())"
      ],
      "metadata": {
        "id": "8WbP6_yOCZWD",
        "colab": {
          "base_uri": "https://localhost:8080/"
        },
        "outputId": "0670b1c0-dd88-4b49-aaf2-c475da6d9f8f"
      },
      "execution_count": 9,
      "outputs": [
        {
          "output_type": "stream",
          "name": "stdout",
          "text": [
            "# ==========================================================\n",
            "# = Solver Results                                         =\n",
            "# ==========================================================\n",
            "# ----------------------------------------------------------\n",
            "#   Problem Information\n",
            "# ----------------------------------------------------------\n",
            "Problem: \n",
            "- Name: unknown\n",
            "  Lower bound: 320.0\n",
            "  Upper bound: 320.0\n",
            "  Number of objectives: 1\n",
            "  Number of constraints: 3\n",
            "  Number of variables: 3\n",
            "  Number of nonzeros: 5\n",
            "  Sense: minimize\n",
            "# ----------------------------------------------------------\n",
            "#   Solver Information\n",
            "# ----------------------------------------------------------\n",
            "Solver: \n",
            "- Status: ok\n",
            "  Termination condition: optimal\n",
            "  Statistics: \n",
            "    Branch and bound: \n",
            "      Number of bounded subproblems: 0\n",
            "      Number of created subproblems: 0\n",
            "  Error rc: 0\n",
            "  Time: 0.015524625778198242\n",
            "# ----------------------------------------------------------\n",
            "#   Solution Information\n",
            "# ----------------------------------------------------------\n",
            "Solution: \n",
            "- number of solutions: 0\n",
            "  number of solutions displayed: 0\n",
            "\n",
            " RESULTS \n",
            "\n",
            "Cost of advertisement campaign =  320.0\n",
            "Number of comedy ads purchased =  3.6\n",
            "Number of football ads purchased =  1.4\n"
          ]
        }
      ]
    },
    {
      "cell_type": "code",
      "source": [
        ""
      ],
      "metadata": {
        "id": "1ikCbPi55btZ"
      },
      "execution_count": null,
      "outputs": []
    }
  ]
}